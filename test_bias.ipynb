{
 "cells": [
  {
   "cell_type": "code",
   "execution_count": 1,
   "id": "3116fa11-68dc-4650-8434-ddf4c0368466",
   "metadata": {},
   "outputs": [],
   "source": [
    "import json\n",
    "import numpy as np\n",
    "from scipy import stats"
   ]
  },
  {
   "cell_type": "code",
   "execution_count": 2,
   "id": "e37d750f-5a50-4f17-b0b8-738034e1907a",
   "metadata": {},
   "outputs": [],
   "source": [
    "domain = \"nlp\"\n",
    "cut_off = 500\n",
    "pred_ft_file = \"data/{}/outputs/bart-base-{}-{}-3epochs.lr1e-6.jsonl\".format(domain, domain, cut_off)\n",
    "pred_base_file = \"data/{}/outputs/bart-base.jsonl\".format(domain)\n",
    "train_file = \"data/{}/train.jsonl\".format(domain)"
   ]
  },
  {
   "cell_type": "code",
   "execution_count": 3,
   "id": "45c28508-2620-411b-bd20-8c903d4f81bb",
   "metadata": {},
   "outputs": [
    {
     "name": "stdout",
     "output_type": "stream",
     "text": [
      "212\n",
      "212\n"
     ]
    }
   ],
   "source": [
    "# load prediction files\n",
    "\n",
    "def load_pred(pred_file):\n",
    "    predictions = {}\n",
    "    with open(pred_file, 'r') as f:\n",
    "        for line in f:\n",
    "            doc = json.loads(line)\n",
    "            predictions[doc[\"id\"]] = doc[\"top_m\"].split(\";\")\n",
    "    return predictions\n",
    "\n",
    "pred_ft = load_pred(pred_ft_file)\n",
    "print(len(pred_ft))\n",
    "pred_base = load_pred(pred_base_file)\n",
    "print(len(pred_base))"
   ]
  },
  {
   "cell_type": "code",
   "execution_count": 4,
   "id": "db3ec66c-82af-4af2-b41e-089dd118fca2",
   "metadata": {},
   "outputs": [
    {
     "name": "stdout",
     "output_type": "stream",
     "text": [
      "500\n"
     ]
    }
   ],
   "source": [
    "# load training file\n",
    "samples = {}\n",
    "with open(train_file, 'r') as f:\n",
    "    for line in f:\n",
    "        if len(samples) == cut_off:\n",
    "            break\n",
    "        doc = json.loads(line)\n",
    "        samples[doc[\"id\"]] = doc[\"keyphrases\"]\n",
    "print(len(samples))     "
   ]
  },
  {
   "cell_type": "code",
   "execution_count": 5,
   "id": "0afe1b60-17c7-4bfa-ac10-6f5ef6753d2a",
   "metadata": {},
   "outputs": [
    {
     "name": "stdout",
     "output_type": "stream",
     "text": [
      "1297\n"
     ]
    }
   ],
   "source": [
    "# build a set of keyphrases from the training samples\n",
    "sample_keyphrases = set()\n",
    "for doc_id in samples:\n",
    "    sample_keyphrases.update(samples[doc_id])\n",
    "print(len(sample_keyphrases))"
   ]
  },
  {
   "cell_type": "code",
   "execution_count": 6,
   "id": "75216bef-2c3a-418b-9d50-04387476dc27",
   "metadata": {},
   "outputs": [
    {
     "name": "stdout",
     "output_type": "stream",
     "text": [
      "base: 0.87 20.9 ft: 0.83 20.8\n",
      "ratios: (sign@.05: False, pvalue: 0.78821795)\n",
      "counts: (sign@.05: False, pvalue: 0.05917488)\n",
      "difference: -0.04\n"
     ]
    }
   ],
   "source": [
    "# look for these keyphrases in the predicted phrases\n",
    "m_ft = []\n",
    "m_base = []\n",
    "ratio_ft = []\n",
    "ratio_base = []\n",
    "for doc_id in pred_ft:\n",
    "    m_ft.append(len(sample_keyphrases & set(pred_ft[doc_id])))\n",
    "    m_base.append(len(sample_keyphrases & set(pred_base[doc_id])))\n",
    "    ratio_ft.append(len(sample_keyphrases & set(pred_ft[doc_id]))/len(pred_ft[doc_id]))\n",
    "    ratio_base.append(len(sample_keyphrases & set(pred_base[doc_id]))/len(pred_base[doc_id]))\n",
    "    #print(doc_id, ratio)\n",
    "print(\"base: {0:.2f} {1:.1f}\".format(np.mean(m_base), np.mean(ratio_base)*100.0), \"ft: {0:.2f} {1:.1f}\".format(np.mean(m_ft), np.mean(ratio_ft)*100.0))\n",
    "ttest = stats.ttest_rel(a=ratio_base, b=ratio_ft)\n",
    "print('ratios: (sign@.05: {0}, pvalue: {1:.8f})'.format(ttest[1] < .05, ttest[1]))\n",
    "ttest = stats.ttest_rel(a=m_base, b=m_ft)\n",
    "print('counts: (sign@.05: {0}, pvalue: {1:.8f})'.format(ttest[1] < .05, ttest[1]))\n",
    "print(\"difference: {0:.2f}\".format( np.mean(m_ft) - np.mean(m_base)))"
   ]
  },
  {
   "cell_type": "code",
   "execution_count": null,
   "id": "b2b43c0b-d9d5-4d8c-b22e-9d64893b3567",
   "metadata": {},
   "outputs": [],
   "source": []
  },
  {
   "cell_type": "code",
   "execution_count": null,
   "id": "d9cf57aa-3acf-41db-bd28-0a49ce7e565f",
   "metadata": {},
   "outputs": [],
   "source": []
  }
 ],
 "metadata": {
  "kernelspec": {
   "display_name": "Python 3 (ipykernel)",
   "language": "python",
   "name": "python3"
  },
  "language_info": {
   "codemirror_mode": {
    "name": "ipython",
    "version": 3
   },
   "file_extension": ".py",
   "mimetype": "text/x-python",
   "name": "python",
   "nbconvert_exporter": "python",
   "pygments_lexer": "ipython3",
   "version": "3.11.7"
  }
 },
 "nbformat": 4,
 "nbformat_minor": 5
}
