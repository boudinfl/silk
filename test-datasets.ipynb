{
 "cells": [
  {
   "cell_type": "code",
   "execution_count": 2,
   "id": "2982d325-5569-4b46-89d8-b21e773879c0",
   "metadata": {},
   "outputs": [],
   "source": [
    "from datasets import load_dataset"
   ]
  },
  {
   "cell_type": "code",
   "execution_count": 3,
   "id": "2b0f67c5-deda-414c-8231-5129c4497341",
   "metadata": {},
   "outputs": [],
   "source": [
    "with open(\"token.txt\", \"r\") as f:\n",
    "    token = f.read()"
   ]
  },
  {
   "cell_type": "code",
   "execution_count": 8,
   "id": "e2ad1198-c490-470d-8394-4285e380e653",
   "metadata": {},
   "outputs": [
    {
     "name": "stdout",
     "output_type": "stream",
     "text": [
      "train Dataset({\n",
      "    features: ['id', 'title', 'abstract', 'keyphrases'],\n",
      "    num_rows: 6199\n",
      "})\n",
      "nlp-train.jsonl\n",
      "test Dataset({\n",
      "    features: ['id', 'title', 'abstract', 'keyphrases'],\n",
      "    num_rows: 212\n",
      "})\n",
      "nlp-test.jsonl\n"
     ]
    },
    {
     "data": {
      "application/vnd.jupyter.widget-view+json": {
       "model_id": "e3d3bd085ee843ce949cf4fe2b4f1c42",
       "version_major": 2,
       "version_minor": 0
      },
      "text/plain": [
       "Downloading data files:   0%|          | 0/2 [00:00<?, ?it/s]"
      ]
     },
     "metadata": {},
     "output_type": "display_data"
    },
    {
     "data": {
      "application/vnd.jupyter.widget-view+json": {
       "model_id": "d88ac9635fa14e3eb3cb69769001e40c",
       "version_major": 2,
       "version_minor": 0
      },
      "text/plain": [
       "Downloading data:   0%|          | 0.00/3.69M [00:00<?, ?B/s]"
      ]
     },
     "metadata": {},
     "output_type": "display_data"
    },
    {
     "data": {
      "application/vnd.jupyter.widget-view+json": {
       "model_id": "a2470b640dde449a99a2ce1fe874530a",
       "version_major": 2,
       "version_minor": 0
      },
      "text/plain": [
       "Downloading data:   0%|          | 0.00/384k [00:00<?, ?B/s]"
      ]
     },
     "metadata": {},
     "output_type": "display_data"
    },
    {
     "data": {
      "application/vnd.jupyter.widget-view+json": {
       "model_id": "4c33f72518ab4296b55f99bf57ed574e",
       "version_major": 2,
       "version_minor": 0
      },
      "text/plain": [
       "Extracting data files:   0%|          | 0/2 [00:00<?, ?it/s]"
      ]
     },
     "metadata": {},
     "output_type": "display_data"
    },
    {
     "data": {
      "application/vnd.jupyter.widget-view+json": {
       "model_id": "95efbab5e42c42ea89eb8755fa7f04ac",
       "version_major": 2,
       "version_minor": 0
      },
      "text/plain": [
       "Generating train split: 0 examples [00:00, ? examples/s]"
      ]
     },
     "metadata": {},
     "output_type": "display_data"
    },
    {
     "data": {
      "application/vnd.jupyter.widget-view+json": {
       "model_id": "38d75ea4291c41df8f4f254aaf5790f6",
       "version_major": 2,
       "version_minor": 0
      },
      "text/plain": [
       "Generating test split: 0 examples [00:00, ? examples/s]"
      ]
     },
     "metadata": {},
     "output_type": "display_data"
    },
    {
     "name": "stdout",
     "output_type": "stream",
     "text": [
      "train Dataset({\n",
      "    features: ['id', 'title', 'abstract', 'keyphrases'],\n",
      "    num_rows: 2680\n",
      "})\n",
      "astro-train.jsonl\n",
      "test Dataset({\n",
      "    features: ['id', 'title', 'abstract', 'keyphrases'],\n",
      "    num_rows: 255\n",
      "})\n",
      "astro-test.jsonl\n",
      "train Dataset({\n",
      "    features: ['id', 'title', 'abstract', 'keyphrases'],\n",
      "    num_rows: 2806\n",
      "})\n",
      "paleo-train.jsonl\n",
      "test Dataset({\n",
      "    features: ['id', 'title', 'abstract', 'keyphrases'],\n",
      "    num_rows: 244\n",
      "})\n",
      "paleo-test.jsonl\n"
     ]
    }
   ],
   "source": [
    "for domain in ['nlp', 'astro', 'paleo']:\n",
    "    dataset = load_dataset(\"taln-ls2n/silk\", domain, token=token)\n",
    "\n",
    "    for split, split_dataset in dataset.items():\n",
    "        print(split, split_dataset)\n",
    "        print(f\"{domain}-{split}.jsonl\")\n",
    "    #split_dataset.to_json(f\"squad-{split}.jsonl\")"
   ]
  },
  {
   "cell_type": "code",
   "execution_count": 4,
   "id": "6e34750b-a8b9-4066-9d94-da94611de5ea",
   "metadata": {},
   "outputs": [
    {
     "name": "stdout",
     "output_type": "stream",
     "text": [
      "DatasetDict({\n",
      "    train: Dataset({\n",
      "        features: ['id', 'title', 'abstract', 'keyphrases'],\n",
      "        num_rows: 6199\n",
      "    })\n",
      "    test: Dataset({\n",
      "        features: ['id', 'title', 'abstract', 'keyphrases'],\n",
      "        num_rows: 212\n",
      "    })\n",
      "})\n"
     ]
    }
   ],
   "source": [
    "print(main_data)"
   ]
  },
  {
   "cell_type": "code",
   "execution_count": null,
   "id": "e523a9b9-eeb6-41e7-9d85-5b4b78650d0f",
   "metadata": {},
   "outputs": [],
   "source": []
  }
 ],
 "metadata": {
  "kernelspec": {
   "display_name": "Python 3 (ipykernel)",
   "language": "python",
   "name": "python3"
  },
  "language_info": {
   "codemirror_mode": {
    "name": "ipython",
    "version": 3
   },
   "file_extension": ".py",
   "mimetype": "text/x-python",
   "name": "python",
   "nbconvert_exporter": "python",
   "pygments_lexer": "ipython3",
   "version": "3.11.7"
  }
 },
 "nbformat": 4,
 "nbformat_minor": 5
}
