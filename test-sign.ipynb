{
 "cells": [
  {
   "cell_type": "code",
   "execution_count": 1,
   "id": "38faf758-0a03-4ff7-ab67-0437965ebd4f",
   "metadata": {},
   "outputs": [],
   "source": [
    "import re\n",
    "import csv\n",
    "import glob\n",
    "import numpy\n",
    "from scipy import stats"
   ]
  },
  {
   "cell_type": "code",
   "execution_count": 63,
   "id": "d884cb85-14e0-4eb8-ad46-2d99c797a928",
   "metadata": {},
   "outputs": [],
   "source": [
    "#path_a=\"data/nlp/evaluation/outputs2/bart-base-kp20k-15epochs.pre.csv\"\n",
    "#path_a=\"data/astro/evaluation/outputs2/bart-base-kp20k-15epochs.pre.csv\"\n",
    "\n",
    "model = \"bart-large\"\n",
    "domain = \"paleo\"\n",
    "split = \"all\"\n",
    "\n",
    "path_a=\"data/{}/outputs/{}.{}.csv\".format(domain, model, split)\n",
    "#path_a=\"data/others/kp20k/bart-ft-15-kp20k.all.csv\"\n",
    "#path_a=\"data/others/kp20k/one2set.kp20k.abs.csv\"\n",
    "column_id = 3"
   ]
  },
  {
   "cell_type": "code",
   "execution_count": 64,
   "id": "65a18e6d-1dcd-439b-b65b-f3f88e065813",
   "metadata": {},
   "outputs": [],
   "source": [
    "def load_scores(input_csv_file, col_id=1):\n",
    "    keys, scores = [], []\n",
    "    with open(input_csv_file, 'r', newline='') as csvfile:\n",
    "        reference_reader = csv.reader(csvfile, delimiter='\\t')\n",
    "        for row in reference_reader:\n",
    "            keys.append(row[0])\n",
    "            scores.append(float(row[col_id]))\n",
    "    return (keys, scores)"
   ]
  },
  {
   "cell_type": "code",
   "execution_count": 65,
   "id": "ee99432b-86be-4060-aff2-ca58bf1784f7",
   "metadata": {},
   "outputs": [
    {
     "name": "stdout",
     "output_type": "stream",
     "text": [
      "data/paleo/outputs\n",
      "reference avg: 0.1910\n",
      "avg: 0.2004 (sign@.05: True, pvalue: 0.02775842) - bart-large-paleo-self-1000-3epochs.lr1e-6.all.csv\n",
      "avg: 0.2010 (sign@.05: True, pvalue: 0.01235018) - bart-large-paleo-500-3epochs.lr1e-6.all.csv\n"
     ]
    }
   ],
   "source": [
    "scores_a = load_scores(path_a, col_id=column_id)\n",
    "path_dir = \"/\".join(path_a.split(\"/\")[:-1])\n",
    "\n",
    "print(path_dir)\n",
    "score_reference = numpy.average(scores_a[1])\n",
    "print(\"reference avg: {0:.4f}\".format(score_reference))\n",
    "\n",
    "for input_file in glob.glob(path_dir+'/*.{}.csv'.format(split)):\n",
    "    if input_file == path_a:\n",
    "        continue\n",
    "    scores_b = load_scores(input_file, col_id=column_id)\n",
    "    assert(scores_a[0] == scores_b[0])\n",
    "    \n",
    "    if numpy.average(scores_b[1]) < score_reference:\n",
    "        continue\n",
    "        \n",
    "    ttest = stats.ttest_rel(a=scores_a[1], b=scores_b[1])\n",
    "    if ttest[1] < .05:\n",
    "        print('avg: {0:.4f} (sign@.05: {1}, pvalue: {2:.8f}) - {3}'.format(numpy.average(scores_b[1]), ttest[1] < .05, ttest[1], input_file.split(\"/\")[-1]))\n",
    "    #print('avg: {0:.4f} (sign@.05: {1}, pvalue: {2:.8f}) - {3}'.format(numpy.average(scores_b[1]), ttest[1] < .05, ttest[1], input_file.split(\"/\")[-1]))\n",
    "    #print(input_file)\n",
    "\n"
   ]
  },
  {
   "cell_type": "code",
   "execution_count": null,
   "id": "d7675349-dcd6-4cdd-9150-6187a688e5b6",
   "metadata": {},
   "outputs": [],
   "source": []
  },
  {
   "cell_type": "code",
   "execution_count": null,
   "id": "4ff1fe29-d36d-485a-9852-d2f6f8ef5799",
   "metadata": {},
   "outputs": [],
   "source": []
  }
 ],
 "metadata": {
  "kernelspec": {
   "display_name": "Python 3 (ipykernel)",
   "language": "python",
   "name": "python3"
  },
  "language_info": {
   "codemirror_mode": {
    "name": "ipython",
    "version": 3
   },
   "file_extension": ".py",
   "mimetype": "text/x-python",
   "name": "python",
   "nbconvert_exporter": "python",
   "pygments_lexer": "ipython3",
   "version": "3.11.7"
  }
 },
 "nbformat": 4,
 "nbformat_minor": 5
}
